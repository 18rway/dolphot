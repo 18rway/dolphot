{
 "cells": [
  {
   "cell_type": "markdown",
   "id": "b58d6954",
   "metadata": {},
   "source": [
    "# MIRI PSF Photometry With Space_Phot\n",
    "\n",
    "**Author**: Ori Fox+Raphael Baer-Way\n",
    "<br>\n",
    "**Last Updated**: August, 2023"
   ]
  },
  {
   "cell_type": "markdown",
   "id": "88c61bcf-1c4d-407a-b80c-aa13a01fd746",
   "metadata": {
    "tags": []
   },
   "source": [
    "## Table of contents\n",
    "1. [Introduction](#intro)<br>\n",
    "2. [Setup](#setup)<br>\n",
    "    2.1 [Python imports](#py_imports)<br>\n",
    "3. [Bright, Single Object](#bso)<br>\n",
    "    3.1 [Multiple, Level2 Files](#bso2)<br>\n",
    "    3.2 [Single, Level3 Mosaicked File](#bso3)<br>\n",
    "4. [Faint/Upper Limit, Single Object](#fso)<br>\n",
    "    4.1 [Multiple, Level2 Files](#fso2)<br>\n",
    "    4.2 [Single, Level3 Mosaicked File](#fso3)<br>\n",
    "5. [Stellar Field (LMC)](#lmv)<br>\n",
    "    5.1 [Multiple, Level2 Files](#lmc2)<br>\n",
    "    5.2 [Single, Level3 Mosaicked File](#lmc3)<br>"
   ]
  },
  {
   "cell_type": "markdown",
   "id": "4f572688",
   "metadata": {},
   "source": [
    "1.<font color='white'>-</font>Introduction <a class=\"anchor\" id=\"intro\"></a>\n",
    "------------------"
   ]
  },
  {
   "cell_type": "markdown",
   "id": "95891849",
   "metadata": {},
   "source": [
    "**Packages to Install**:\n",
    "space_phot https://github.com/jpierel14/space_phot\n",
    "photutils (on main git+https://github.com/astropy/photutils)\n",
    "jupyter\n",
    "\n",
    "**Goals**: \n",
    "\n",
    "PSF Photometry can be obtained using:\n",
    "\n",
    "* grid of PSF models from WebbPSF\n",
    "* single effective PSF (ePSF) NOT YET AVAILABLE\n",
    "* grid of effective PSF NOT YET AVAILABLE\n",
    "\n",
    "The notebook shows:\n",
    "\n",
    "* how to obtain the PSF model from WebbPSF (or build an ePSF)\n",
    "* how to perform PSF photometry on the image\n",
    "\n",
    "**Data**: \n",
    "\n",
    "MIRI Data PID 1028 (Calibration Program):\n",
    "\n",
    "jwst_download.py -v --config jwst_query.cfg --propID 1028 --obsnums 6 7 --outrootdir ./mydownloads/ -l 500 --i miri --obsmode image --token YOUR_TOKEN_HERE --calib_level 3 --filetypes '_i2d.fits'\n",
    "\n",
    "jwst_download.py -v --config jwst_query.cfg --propID 1028 --obsnums 6 7 --outrootdir ./mydownloads/ -l 500 --i miri --obsmode image --token YOUR_TOKEN_HERE --calib_level 2 --filetypes '_cal.fits'\n",
    "\n",
    "\n",
    "jwst_download.py -v --config jwst_query.cfg --propID 1028 --obsnums 6 7 --outrootdir ./mydownloads/ -l 500 --i miri --obsmode image --token YOUR_TOKEN_HERE --filetypes '_asn.json\n",
    "\n",
    "\n",
    "MIRI Data PID 1171 (LMC)\n",
    "\n",
    "\n",
    "jwst_download.py -v --config jwst_query.cfg --propID 1171 --obsnums 4 --outrootdir ./mydownloads/ -l 500 --i miri --obsmode image --token YOUR_TOKEN_HERE --calib_level 3 --filetypes '_i2d.fits'\n",
    "\n",
    "\n",
    "jwst_download.py -v --config jwst_query.cfg --propID 1171 --obsnums 4 --outrootdir ./mydownloads/ -l 500 --i miri --obsmode image --token YOUR_TOKEN_HERE --calib_level 2 --filetypes '_cal.fits'\n",
    "\n",
    "\n",
    "jwst_download.py -v --config jwst_query.cfg --propID 1171 --obsnums 4 --outrootdir ./mydownloads/ -l 500 --i miri --obsmode image --token YOUR_TOKEN_HERE --filetypes '_asn.json'"
   ]
  },
  {
   "cell_type": "markdown",
   "id": "1cf3d18f",
   "metadata": {},
   "source": [
    "2.<font color='white'>-</font>Setup <a class=\"anchor\" id=\"setup\"></a>\n",
    "------------------"
   ]
  },
  {
   "cell_type": "markdown",
   "id": "5b762602",
   "metadata": {},
   "source": [
    "### 2.1<font color='white'>-</font>Python imports<a class=\"anchor\" id=\"py_imports\"></a> ###"
   ]
  },
  {
   "cell_type": "code",
   "execution_count": null,
   "id": "60b4f8c3-8d1f-4b40-8e1a-ccd7c407941e",
   "metadata": {
    "tags": []
   },
   "outputs": [],
   "source": [
    "%matplotlib inline"
   ]
  },
  {
   "cell_type": "code",
   "execution_count": null,
   "id": "8c50eace",
   "metadata": {
    "tags": []
   },
   "outputs": [],
   "source": [
    "import sys,os,glob\n",
    "from astropy.io import fits\n",
    "from astropy.table import Table\n",
    "from astropy.nddata import extract_array\n",
    "from astropy.coordinates import SkyCoord\n",
    "from astropy import wcs\n",
    "from astropy.wcs.utils import skycoord_to_pixel\n",
    "from astropy import units as u\n",
    "import numpy as np\n",
    "import matplotlib.pyplot as plt\n",
    "from astroquery.mast import Observations\n",
    "from astropy.visualization import (simple_norm,LinearStretch)\n",
    "from mpl_toolkits.axes_grid1 import make_axes_locatable\n",
    "import time\n",
    "import math\n",
    "\n",
    "import st_phot\n",
    "\n",
    "# JWST models\n",
    "#\n",
    "from jwst import datamodels, associations\n",
    "from jwst.datamodels import ImageModel, dqflags\n",
    "\n",
    "# Background and PSF Functions\n",
    "#\n",
    "from photutils.background import MMMBackground, MADStdBackgroundRMS, Background2D\n",
    "from photutils.detection import DAOStarFinder\n",
    "from photutils import EPSFBuilder, GriddedPSFModel\n",
    "from photutils.psf import DAOGroup, extract_stars, IterativelySubtractedPSFPhotometry\n",
    "\n",
    "# Photutils library and tools\n",
    "#\n",
    "import photutils\n",
    "from photutils.aperture import CircularAperture, CircularAnnulus, aperture_photometry\n",
    "from photutils import Background2D, MedianBackground, ModeEstimatorBackground, MMMBackground\n",
    "\n",
    "import st_phot"
   ]
  },
  {
   "cell_type": "markdown",
   "id": "5611799d",
   "metadata": {},
   "source": [
    "3.<font color='white'>-</font>Bright, Single Object<a class=\"anchor\" id=\"bso\"></a>\n",
    "------------------"
   ]
  },
  {
   "cell_type": "markdown",
   "id": "55c52f95",
   "metadata": {},
   "source": [
    "### 3.1<font color='white'>-</font>Multiple, Level2 Files<a class=\"anchor\" id=\"bso2\"></a> ###"
   ]
  },
  {
   "cell_type": "code",
   "execution_count": null,
   "id": "8f44a6cf",
   "metadata": {
    "tags": []
   },
   "outputs": [],
   "source": [
    "### Level 3 Files\n",
    "lvl3 = ['mast/01028/obsnum06/jw01028-o006_t001_miri_f770w_i2d.fits']\n",
    "lvl3"
   ]
  },
  {
   "cell_type": "raw",
   "id": "c33e5985",
   "metadata": {},
   "source": [
    "asnfile = 'jw02079-o004_20230622t175524_spec2_00001_asn.json'\n",
    "asn_data = json.load(open(asnfile))\n",
    "print(asn_data['products'][0]['members'][0]['expname'])"
   ]
  },
  {
   "cell_type": "raw",
   "id": "ec9baac8",
   "metadata": {},
   "source": [
    "from jwst.associations import load_asn\n",
    "asn_data = load_asn(open(\"my_asn.json\"))\n",
    "for member in asn_data['products'][0]['members']:\n",
    "    print(member['expname'])"
   ]
  },
  {
   "cell_type": "code",
   "execution_count": null,
   "id": "d35e67aa",
   "metadata": {
    "tags": []
   },
   "outputs": [],
   "source": [
    "### Create Level 2 Data List from ASN files\n",
    "prefix = \"mast/01028/obsnum06/\"\n",
    "with open(prefix+\"jw01028-o006_20230527t163328_image3_00004_asn.json\",\"r\") as fi:\n",
    "    lvl2 = []\n",
    "    for ln in fi:\n",
    "        #print(ln)\n",
    "        if ln.startswith('                    \"expname\":'):\n",
    "            x = ln[2:].split(':')\n",
    "            y = x[1].split('\"')\n",
    "            lvl2.append(prefix+y[1])\n",
    "print(lvl2)"
   ]
  },
  {
   "cell_type": "raw",
   "id": "d0f5e7cc",
   "metadata": {},
   "source": [
    "# Change all DQ flagged pixels to NANs\n",
    "for file in lvl2:\n",
    "    hdul = fits.open(file, mode='update')\n",
    "    data = fits.open(file)['SCI',1].data\n",
    "    dq = fits.open(file)['DQ',1].data\n",
    "    data[dq == 1]=np.nan\n",
    "    hdul['SCI',1].data=data\n",
    "    hdul.flush()"
   ]
  },
  {
   "cell_type": "code",
   "execution_count": null,
   "id": "37bb2026",
   "metadata": {
    "tags": []
   },
   "outputs": [],
   "source": [
    "# Examine the First Image\n",
    "ref_image = 'jw01028006001_02101_00001_mirimage_cal.fits'\n",
    "print(ref_image)\n",
    "ref_fits = fits.open(ref_image)\n",
    "ref_data = fits.open(ref_image)['SCI',1].data\n",
    "norm1 = simple_norm(ref_data,stretch='linear',min_cut=-1,max_cut=10)\n",
    "\n",
    "plt.imshow(ref_data, origin='lower',norm=norm1,cmap='gray')\n",
    "plt.gca().tick_params(labelcolor='none',axis='both',color='none')\n",
    "plt.show()"
   ]
  },
  {
   "cell_type": "code",
   "execution_count": null,
   "id": "f647dfde",
   "metadata": {
    "tags": []
   },
   "outputs": [],
   "source": [
    "# Zoom in to see the source\n",
    "source_location = SkyCoord('17:43:04.4879','+66:55:01.837',unit=(u.hourangle,u.deg))\n",
    "ref_x,ref_y = skycoord_to_pixel(source_location,wcs.WCS(ref_fits['SCI',1],ref_fits))\n",
    "ref_cutout = extract_array(ref_data,(21,21),(ref_y,ref_x))#Flipped x and y for dolphot-otherwise this won't work\n",
    "norm1 = simple_norm(ref_cutout,stretch='linear',min_cut=-1,max_cut=10)\n",
    "plt.imshow(ref_cutout, origin='lower',\n",
    "                      norm=norm1,cmap='gray')\n",
    "plt.title('PID1028,Obs006')\n",
    "plt.gca().tick_params(labelcolor='none',axis='both',color='none')\n",
    "plt.show()"
   ]
  },
  {
   "cell_type": "markdown",
   "id": "2429a91f",
   "metadata": {},
   "source": [
    "### Dolphot Instruction"
   ]
  },
  {
   "cell_type": "markdown",
   "id": "098382f2",
   "metadata": {},
   "source": [
    "Now that we have all the data and have examined our source, we can proceed to running dolphot. Make sure you do not run any code altering the original fits files before running dolphot. For a general guide on installation/how to get things up and running refer here: https://github.com/18rway/dolphot "
   ]
  },
  {
   "cell_type": "markdown",
   "id": "28d1d25f",
   "metadata": {},
   "source": [
    "Go to the terminal and move to the folder where the level 2 files are located. Ensure you have the PSFs for all MIRI filters you will be working with loaded in to the dolphot directory. Run the pre-processing steps: mirimask, splitgroups and calcsky. Use calcsky parameters \n",
    "### rin=10 rout=25 step=4 sigmalow=2.25 sigmahigh=2 \n"
   ]
  },
  {
   "cell_type": "markdown",
   "id": "ade4be8c",
   "metadata": {},
   "source": [
    "Now edit the parameter file(taken from your dolphot root directory) such that you are running on Nimg=1 with that one image being the level 2 file you wish to run on(for comparisons sake, use the first image in the list created in the above cells). Use the photsec parameter as outlined in the github with the ref_x and ref_y we just found, but flip the values for dolphot!(For some reason, dolphot flips the x and y astropy find). Alternatively, you can run on every level 2 file for one source(running on all filter at once) using photsec in a matter of minutes. In h\\the terminal, run \n",
    "### dolphot 1028_star.phot -pdolphot.param or similar."
   ]
  },
  {
   "cell_type": "markdown",
   "id": "88227cb5",
   "metadata": {},
   "source": [
    "Now you have your dolphot output(this should take maximally 2 minutes if you specify a small region around the source with the photsec parameter). Return to this notebook, but ensure you place the output file(1028_star.phot) in your current directory from which you run this notebook."
   ]
  },
  {
   "cell_type": "code",
   "execution_count": null,
   "id": "86514cb9",
   "metadata": {},
   "outputs": [],
   "source": [
    "#Run this file to see your output overlayed on the image\n",
    "data=np.loadtxt('1028_star.phot')#load in photometry file as whateever it is named\n",
    "#print(ref_x,ref_y)\n",
    "#2nd column x,3rd column y\n",
    "#15th column magnitude\n",
    "data_new=data[np.where((data[:,2]<ref_x+2)&(data[:,2]>ref_x-2)&(data[:,3]>ref_y-2)&(data[:,3]<ref_y+2))]# filter image by detections near source\n",
    "#print(np.shape(data_new))#find number of detections\n",
    "plt.imshow(ref_cutout, origin='lower',\n",
    "                      norm=norm1,cmap='gray')\n",
    "for i in range(len(data_new)):\n",
    "    plt.text(ref_x-data_new[i,2]+10.2,ref_y-data_new[i,3]+10.2,'{}'.format(data_new[i,15]),color='r')#add magnitudes\n",
    "    plt.scatter(ref_x-data_new[i,2]+10,ref_y-data_new[i,3]+10,color='r')#plot all points add 10 as a center of images is 10,10\n",
    "plt.legend\n",
    "print('We see the detection centered on the star. You can manually check your dolphot output for error and other measures(sharpness,roundness)')"
   ]
  },
  {
   "cell_type": "markdown",
   "id": "1cad84dd",
   "metadata": {},
   "source": [
    "### Repeat this process for any other level 2, level 3 images-Compare to stphot, but remember to convert from AB to Vegamag!(What Dolphot outputs)"
   ]
  },
  {
   "cell_type": "markdown",
   "id": "bb4d6a10",
   "metadata": {},
   "source": [
    "#### F770w conversion=4.352\n",
    "#### F1000w conversion=4.928\n",
    "#### F1130w conversion=5.223\n",
    "#### F1280w conversion=5.475\n",
    "#### F1500w conversion=5.828\n",
    "#### F1800w conversion=6.204\n",
    "#### F2100 conversion=6.488\n",
    "#### F2550 conversion=6.975\n"
   ]
  },
  {
   "cell_type": "code",
   "execution_count": null,
   "id": "d67d57b9",
   "metadata": {
    "tags": []
   },
   "outputs": [],
   "source": [
    "# Get PSF from WebbPSF\n",
    "jwst_obs = st_phot.observation2(lvl2)\n",
    "psfs = st_phot.get_jwst_psf(jwst_obs,source_location,num_psfs=4)\n",
    "plt.imshow(psfs[0].data)\n",
    "plt.show()"
   ]
  },
  {
   "cell_type": "code",
   "execution_count": null,
   "id": "c9a1b447",
   "metadata": {
    "tags": []
   },
   "outputs": [],
   "source": [
    "# Do PSF Photometry using st_phot (details of fitting are in documentation)\n",
    "# https://st-phot.readthedocs.io/en/latest/examples/plot_a_psf.html#jwst-images\n",
    "\n",
    "jwst_obs.psf_photometry(psfs,source_location,bounds={'flux':[-1000,100000],\n",
    "                        'centroid':[-2,2],\n",
    "                        'bkg':[0,50]},\n",
    "                        fit_width=5,\n",
    "                        fit_bkg=True,\n",
    "                        fit_flux='single')\n",
    "jwst_obs.plot_psf_fit()\n",
    "plt.show()\n",
    "\n",
    "jwst_obs.plot_psf_posterior(minweight=.0005)\n",
    "plt.show()\n",
    "\n",
    "print(jwst_obs.psf_result.phot_cal_table)"
   ]
  },
  {
   "cell_type": "code",
   "execution_count": null,
   "id": "31bd70f0",
   "metadata": {
    "tags": []
   },
   "outputs": [],
   "source": [
    "# Calculate Average Magnitude from Table\n",
    "mag_arr = jwst_obs.psf_result.phot_cal_table['mag']\n",
    "magerr_arr = jwst_obs.psf_result.phot_cal_table['magerr']\n",
    "\n",
    "mag_lvl2psf = np.mean(mag_arr)\n",
    "magerr_lvl2psf = math.sqrt(sum(p**2 for p in magerr_arr))\n",
    "print(round(mag_lvl2psf,4),round(magerr_lvl2psf,4))\n",
    "#return math.sqrt(sum((p[0]-centroid[0])**2 + (p[1]-centroid[1])**2 for p in points))\n"
   ]
  },
  {
   "cell_type": "markdown",
   "id": "a57f9275",
   "metadata": {},
   "source": [
    "### 3.2<font color='white'>-</font>Single, Level3 Mosaicked File<a class=\"anchor\" id=\"bso3\"></a> ###"
   ]
  },
  {
   "cell_type": "markdown",
   "id": "d5b015bf",
   "metadata": {},
   "source": [
    "### For level 3 images, specify img0 as the drizzled file and run with img1 still being the level 2 file. In the output the first set of photometry results(columns 15-20) will correspond to the reference drizzled image"
   ]
  },
  {
   "cell_type": "code",
   "execution_count": null,
   "id": "7bd91d15",
   "metadata": {
    "tags": []
   },
   "outputs": [],
   "source": [
    "lvl3"
   ]
  },
  {
   "cell_type": "code",
   "execution_count": null,
   "id": "5565538c",
   "metadata": {
    "tags": []
   },
   "outputs": [],
   "source": [
    "# Now do the same photometry on the Level 3 Data\n",
    "ref_image = lvl3[0]\n",
    "ref_fits = fits.open(ref_image)\n",
    "ref_data = fits.open(ref_image)['SCI',1].data\n",
    "norm1 = simple_norm(ref_data,stretch='linear',min_cut=-1,max_cut=10)\n",
    "\n",
    "plt.imshow(ref_data, origin='lower',\n",
    "                      norm=norm1,cmap='gray')\n",
    "plt.gca().tick_params(labelcolor='none',axis='both',color='none')\n",
    "plt.show()"
   ]
  },
  {
   "cell_type": "code",
   "execution_count": null,
   "id": "0cd06c0a",
   "metadata": {
    "tags": []
   },
   "outputs": [],
   "source": [
    "source_location = SkyCoord('17:43:04.4879','+66:55:01.837',unit=(u.hourangle,u.deg))\n",
    "\n",
    "ref_y,ref_x = skycoord_to_pixel(source_location,wcs.WCS(ref_fits['SCI',1],ref_fits))\n",
    "ref_cutout = extract_array(ref_data,(11,11),(ref_x,ref_y))\n",
    "norm1 = simple_norm(ref_cutout,stretch='linear',min_cut=-1,max_cut=10)\n",
    "plt.imshow(ref_cutout, origin='lower',\n",
    "                      norm=norm1,cmap='gray')\n",
    "plt.title('PID1028,Obs006 (level 3)')\n",
    "plt.gca().tick_params(labelcolor='none',axis='both',color='none')\n",
    "plt.show()"
   ]
  },
  {
   "cell_type": "code",
   "execution_count": null,
   "id": "7bea076d",
   "metadata": {
    "tags": []
   },
   "outputs": [],
   "source": [
    "# Get PSF from WebbPSF and drizzle it to the source location\n",
    "\n",
    "jwst3_obs = st_phot.observation3(lvl3[0])\n",
    "psf3 = st_phot.get_jwst3_psf(jwst_obs,source_location,num_psfs=4)\n",
    "plt.imshow(psf3.data)\n",
    "plt.show()"
   ]
  },
  {
   "cell_type": "code",
   "execution_count": null,
   "id": "27525a0a",
   "metadata": {
    "tags": []
   },
   "outputs": [],
   "source": [
    "jwst3_obs.psf_photometry(psf3,source_location,bounds={'flux':[-1000,10000],\n",
    "                        'centroid':[-2,2],\n",
    "                        'bkg':[0,50]},\n",
    "                        fit_width=5,\n",
    "                        fit_bkg=True,\n",
    "                        fit_flux=True)\n",
    "\n",
    "jwst_obs.plot_psf_fit()\n",
    "plt.show()\n",
    "\n",
    "jwst_obs.plot_psf_posterior(minweight=.0005)\n",
    "plt.show()"
   ]
  },
  {
   "cell_type": "code",
   "execution_count": null,
   "id": "dc1f930a",
   "metadata": {
    "tags": []
   },
   "outputs": [],
   "source": [
    "mag_lvl3psf = jwst3_obs.psf_result.phot_cal_table['mag'][0]\n",
    "magerr_lvl3psf = jwst3_obs.psf_result.phot_cal_table['magerr'][0]\n",
    "print(round(mag_lvl2psf,4),round(magerr_lvl2psf,4))\n",
    "print(round(mag_lvl3psf,5),round(magerr_lvl3psf,5))"
   ]
  },
  {
   "cell_type": "markdown",
   "id": "5b5f0ad5-b59e-4eff-8687-f6a2199d8bd9",
   "metadata": {},
   "source": [
    "4.<font color='white'>-</font>Faint/Upper Limit, Single Object<a class=\"anchor\" id=\"fso\"></a>\n",
    "------------------"
   ]
  },
  {
   "cell_type": "markdown",
   "id": "4c611a5c",
   "metadata": {},
   "source": [
    "### Dolphot does not do upper limits in the way other methods are able to. For the purpose of comparison, you could simply extract the 5 sigma detections from some radius around the location you are performing forced photometry at and average these. However, this is not robust."
   ]
  },
  {
   "cell_type": "markdown",
   "id": "8af6f83a-5925-44d5-be0f-facd2316d1ca",
   "metadata": {},
   "source": [
    "### 4.1<font color='white'>-</font>Multiple, Level2 Files<a class=\"anchor\" id=\"fso2\"></a> ###"
   ]
  },
  {
   "cell_type": "code",
   "execution_count": null,
   "id": "e1f4657f",
   "metadata": {},
   "outputs": [],
   "source": [
    "### Level 3 Files\n",
    "lvl3 = 'jw01028-o006_t001_miri_f770w_i2d.fits'\n",
    "lvl3\n",
    "lvl2='jw01028006001_02101_00001_mirimage_cal.fits'"
   ]
  },
  {
   "cell_type": "code",
   "execution_count": null,
   "id": "da5bc51b",
   "metadata": {},
   "outputs": [],
   "source": [
    "### Create Level 2 Data List from ASN files\n",
    "prefix = \"mast/01028/obsnum06/\"\n",
    "with open(prefix+\"jw01028-o006_20230527t163328_image3_00004_asn.json\",\"r\") as fi:\n",
    "    lvl2 = []\n",
    "    for ln in fi:\n",
    "        #print(ln)\n",
    "        if ln.startswith('                    \"expname\":'):\n",
    "            x = ln[2:].split(':')\n",
    "            y = x[1].split('\"')\n",
    "            lvl2.append(prefix+y[1])\n",
    "print(lvl2)"
   ]
  },
  {
   "cell_type": "code",
   "execution_count": null,
   "id": "11977976",
   "metadata": {},
   "outputs": [],
   "source": [
    "# Change all DQ flagged pixels to NANs\n",
    "for file in lvl2:\n",
    "    hdul = fits.open(file, mode='update')\n",
    "    data = fits.open(file)['SCI',1].data\n",
    "    dq = fits.open(file)['DQ',1].data\n",
    "    data[dq == 1]=np.nan\n",
    "    hdul['SCI',1].data=data\n",
    "    hdul.flush()"
   ]
  },
  {
   "cell_type": "code",
   "execution_count": null,
   "id": "f4633402",
   "metadata": {},
   "outputs": [],
   "source": [
    "# Examine the First Image\n",
    "ref_image = lvl2[0]\n",
    "print(ref_image)\n",
    "ref_fits = fits.open(ref_image)\n",
    "ref_data = fits.open(ref_image)['SCI',1].data\n",
    "norm1 = simple_norm(ref_data,stretch='linear',min_cut=-1,max_cut=10)\n",
    "\n",
    "plt.imshow(ref_data, origin='lower',norm=norm1,cmap='gray')\n",
    "plt.gca().tick_params(labelcolor='none',axis='both',color='none')\n",
    "plt.show()"
   ]
  },
  {
   "cell_type": "code",
   "execution_count": null,
   "id": "9a9f4664",
   "metadata": {},
   "outputs": [],
   "source": [
    "# Pick a blank part of the sky to calculate the upper limit\n",
    "\n",
    "source_location = SkyCoord('17:43:00.0332','+66:54:42.677',unit=(u.hourangle,u.deg))\n",
    "ref_y,ref_x = skycoord_to_pixel(source_location,wcs.WCS(ref_fits['SCI',1],ref_fits))\n",
    "ref_cutout = extract_array(ref_data,(11,11),(ref_x,ref_y))\n",
    "norm1 = simple_norm(ref_cutout,stretch='linear',min_cut=-1,max_cut=10)\n",
    "plt.imshow(ref_cutout, origin='lower',\n",
    "                      norm=norm1,cmap='gray')\n",
    "plt.title('PID1028,Obs006')\n",
    "plt.gca().tick_params(labelcolor='none',axis='both',color='none')\n",
    "plt.show()"
   ]
  },
  {
   "cell_type": "code",
   "execution_count": null,
   "id": "2111413b",
   "metadata": {},
   "outputs": [],
   "source": [
    "# Get PSF from WebbPSF\n",
    "jwst_obs = space_phot.observation2(lvl2[0])\n",
    "psfs = space_phot.get_jwst_psf(jwst_obs,source_location)#,num_psfs=4)\n",
    "plt.imshow(psfs[0].data)\n",
    "plt.show()"
   ]
  },
  {
   "cell_type": "code",
   "execution_count": null,
   "id": "2d2c3967",
   "metadata": {},
   "outputs": [],
   "source": [
    "# Do PSF Photometry using space_phot (details of fitting are in documentation)\n",
    "# https://st-phot.readthedocs.io/en/latest/examples/plot_a_psf.html#jwst-images\n",
    "\n",
    "jwst_obs.psf_photometry(psfs,source_location,bounds={'flux':[-10,1000],\n",
    "                        #'centroid':[-2,2],\n",
    "                        'bkg':[0,50]},\n",
    "                        fit_width=5,\n",
    "                        fit_bkg=True,\n",
    "                        fit_centroid='fixed',\n",
    "                        fit_flux='single')\n",
    "jwst_obs.plot_psf_fit()\n",
    "plt.show()\n",
    "\n",
    "jwst_obs.plot_psf_posterior(minweight=.0005)\n",
    "plt.show()\n",
    "\n",
    "print(jwst_obs.psf_result.phot_cal_table)"
   ]
  },
  {
   "cell_type": "code",
   "execution_count": null,
   "id": "08a57613",
   "metadata": {},
   "outputs": [],
   "source": [
    "# Print Upper Limits\n",
    "\n",
    "magupper_lvl2psf = jwst_obs.upper_limit(nsigma=5)\n",
    "magupper_lvl2psf"
   ]
  },
  {
   "cell_type": "markdown",
   "id": "e325db03-6e9b-4f04-be7b-5e80063dd9b8",
   "metadata": {
    "tags": []
   },
   "source": [
    "### 4.2<font color='white'>-</font>Single, Level3 Mosaicked File<a class=\"anchor\" id=\"fso3\"></a> ###"
   ]
  },
  {
   "cell_type": "code",
   "execution_count": null,
   "id": "c47b4e19",
   "metadata": {},
   "outputs": [],
   "source": [
    "lvl3"
   ]
  },
  {
   "cell_type": "code",
   "execution_count": null,
   "id": "6aaa5ffd",
   "metadata": {},
   "outputs": [],
   "source": [
    "# Now do the same photometry on the Level 3 Data\n",
    "ref_image = lvl3\n",
    "ref_fits = fits.open(ref_image)\n",
    "ref_data = fits.open(ref_image)['SCI',1].data\n",
    "norm1 = simple_norm(ref_data,stretch='linear',min_cut=-1,max_cut=10)\n",
    "\n",
    "plt.imshow(ref_data, origin='lower',\n",
    "                      norm=norm1,cmap='gray')\n",
    "plt.gca().tick_params(labelcolor='none',axis='both',color='none')\n",
    "plt.show()"
   ]
  },
  {
   "cell_type": "code",
   "execution_count": null,
   "id": "df324db3",
   "metadata": {},
   "outputs": [],
   "source": [
    "# Pick a blank part of the sky to calculate the upper limit\n",
    "\n",
    "source_location = SkyCoord('17:43:00.0332','+66:54:42.677',unit=(u.hourangle,u.deg))\n",
    "\n",
    "ref_y,ref_x = skycoord_to_pixel(source_location,wcs.WCS(ref_fits['SCI',1],ref_fits))\n",
    "ref_cutout = extract_array(ref_data,(11,11),(ref_x,ref_y))\n",
    "norm1 = simple_norm(ref_cutout,stretch='linear',min_cut=-1,max_cut=10)\n",
    "plt.imshow(ref_cutout, origin='lower',\n",
    "                      norm=norm1,cmap='gray')\n",
    "plt.title('PID1028,Obs006 (level 3)')\n",
    "plt.gca().tick_params(labelcolor='none',axis='both',color='none')\n",
    "plt.show()"
   ]
  },
  {
   "cell_type": "code",
   "execution_count": null,
   "id": "12d43564",
   "metadata": {},
   "outputs": [],
   "source": [
    "jwst3_obs = space_phot.observation3(lvl3)\n",
    "psf3 = space_phot.get_jwst3_psf(jwst3_obs,source_location)#,num_psfs=4)\n",
    "plt.imshow(psf3.data)\n",
    "plt.show()"
   ]
  },
  {
   "cell_type": "code",
   "execution_count": null,
   "id": "379d1201",
   "metadata": {},
   "outputs": [],
   "source": [
    "jwst3_obs.psf_photometry(psf3,source_location,bounds={'flux':[-10,1000],\n",
    "                        #'centroid':[-2,2],\n",
    "                        'bkg':[0,50]},\n",
    "                        fit_width=5,\n",
    "                        fit_bkg=False,\n",
    "                        fit_centroid=False,\n",
    "                        fit_flux=True)\n",
    "\n",
    "jwst3_obs.plot_psf_fit()\n",
    "plt.show()\n",
    "\n",
    "jwst3_obs.plot_psf_posterior(minweight=.0005)\n",
    "plt.show()"
   ]
  },
  {
   "cell_type": "code",
   "execution_count": null,
   "id": "3e97aab8",
   "metadata": {},
   "outputs": [],
   "source": [
    "magupper_lvl3psf = jwst3_obs.upper_limit(nsigma=5)\n",
    "print(round(magupper_lvl2psf[0],4))\n",
    "print(round(magupper_lvl3psf[0],5))"
   ]
  },
  {
   "cell_type": "markdown",
   "id": "9a969717-bbef-40b9-ac9b-f83dec99dc09",
   "metadata": {},
   "source": [
    "5.<font color='white'>-</font>Stellar Field (LMC)<a class=\"anchor\" id=\"lmc\"></a>\n",
    "------------------"
   ]
  },
  {
   "cell_type": "markdown",
   "id": "32bdafe6-db19-4080-9587-b9785c2f7fa7",
   "metadata": {},
   "source": [
    "### 5.1<font color='white'>-</font>Multiple, Level2 Files<a class=\"anchor\" id=\"lmc2\"></a> ###"
   ]
  },
  {
   "cell_type": "markdown",
   "id": "b618756f",
   "metadata": {},
   "source": [
    "##### Now do the same thing for a larger group of stars and test for speed"
   ]
  },
  {
   "cell_type": "code",
   "execution_count": null,
   "id": "838bd76d",
   "metadata": {
    "tags": []
   },
   "outputs": [],
   "source": [
    "### Level 3 Files\n",
    "lvl3 = ['mastDownload/JWST/jw01171-o004_t001_miri_f560w/jw01171-o004_t001_miri_f560w_i2d.fits']\n",
    "lvl3"
   ]
  },
  {
   "cell_type": "raw",
   "id": "76e791f7",
   "metadata": {},
   "source": [
    "asnfile = 'jw02079-o004_20230622t175524_spec2_00001_asn.json'\n",
    "asn_data = json.load(open(asnfile))\n",
    "print(asn_data['products'][0]['members'][0]['expname'])"
   ]
  },
  {
   "cell_type": "code",
   "execution_count": null,
   "id": "ace6b4a1",
   "metadata": {
    "tags": []
   },
   "outputs": [],
   "source": [
    "### Level 2 Files\n",
    "lvl2 = glob.glob('mastDownload/JWST/jw01171004*/*cal.fits')\n",
    "lvl2"
   ]
  },
  {
   "cell_type": "markdown",
   "id": "fb907027",
   "metadata": {},
   "source": [
    "### Running dolphot on a field"
   ]
  },
  {
   "cell_type": "markdown",
   "id": "138f0b9c",
   "metadata": {},
   "source": [
    "Run dolphot in the same way while leaving the photsec parameter blank(dolphot will run across the entire file by default), but this time make the img1 one of these 1171 images. You will get a magnitude for every star in the field, which can be stored in a file you could call lmc.phot. Use the same process with a selected RA/DEC as above to isolate stars and get their magnitudes. Again, we can compare with the known AV to Vegamag conversions. I provide an example for one star"
   ]
  },
  {
   "cell_type": "code",
   "execution_count": null,
   "id": "9e011786",
   "metadata": {},
   "outputs": [],
   "source": [
    "# Zoom in to see the source\n",
    "source_location = SkyCoord('5:23:01.9403','-69:26:46.808',unit=(u.hourangle,u.deg))#set source location for one star\n",
    "\n",
    "ref_x,ref_y = skycoord_to_pixel(source_location,wcs.WCS(ref_fits['SCI',1],ref_fits))\n",
    "ref_cutout = extract_array(ref_data,(21,21),(ref_y,ref_x))#Flipped x and y for dolphot-otherwise this won't work\n",
    "norm1 = simple_norm(ref_cutout,stretch='linear',min_cut=-1,max_cut=10)\n",
    "plt.imshow(ref_cutout, origin='lower',\n",
    "                      norm=norm1,cmap='gray')\n",
    "plt.title('PID1028,Obs006')\n",
    "plt.gca().tick_params(labelcolor='none',axis='both',color='none')\n",
    "plt.show()"
   ]
  },
  {
   "cell_type": "code",
   "execution_count": null,
   "id": "75ec028f",
   "metadata": {},
   "outputs": [],
   "source": [
    "#Run this file to see your output overlayed on the image\n",
    "data=np.loadtxt('lmc.phot')#load in photometry file\n",
    "#print(ref_x,ref_y)\n",
    "#2nd column x,3rd column y\n",
    "#15th column magnitude\n",
    "data_new=data[np.where((data[:,2]<ref_x+2)&(data[:,2]>ref_x-2)&(data[:,3]>ref_y-2)&(data[:,3]<ref_y+2))]# filter image by detections near source\n",
    "#print(np.shape(data_new))#find number of detections\n",
    "plt.imshow(ref_cutout, origin='lower',\n",
    "                      norm=norm1,cmap='gray')\n",
    "for i in range(len(data_new)):\n",
    "    plt.text(ref_x-data_new[i,2]+10.2,ref_y-data_new[i,3]+10.2,'{}'.format(data_new[i,15]),color='r')#add magnitudes\n",
    "    plt.scatter(ref_x-data_new[i,2]+10,ref_y-data_new[i,3]+10,color='r')#plot all points add 10 as a center of images is 10,10\n",
    "plt.legend\n",
    "print('We see the detection centered on the star. You can manually check your dolphot output for error and other measures(sharpness,roundness)')"
   ]
  },
  {
   "cell_type": "code",
   "execution_count": null,
   "id": "57f9d790",
   "metadata": {
    "tags": []
   },
   "outputs": [],
   "source": [
    "# Find Stars in Level 3 File\n",
    "\n",
    "# Get rough estimate of background (There are Better Ways to Do Background Subtraction)\n",
    "bkgrms = MADStdBackgroundRMS()\n",
    "mmm_bkg = MMMBackground()\n",
    "\n",
    "im = fits.open(lvl3[0]) \n",
    "w = wcs.WCS(im['SCI',1])\n",
    "\n",
    "std = bkgrms(im[1].data)\n",
    "bkg = mmm_bkg(im[1].data)\n",
    "data_bkgsub = im[1].data.copy()\n",
    "data_bkgsub -= bkg        \n",
    "sigma_psf = 1.636 #pixls for F770W\n",
    "threshold = 5.\n",
    "\n",
    "daofind = DAOStarFinder(threshold=threshold * std, fwhm=sigma_psf, exclude_border=True)\n",
    "found_stars = daofind(data_bkgsub)"
   ]
  },
  {
   "cell_type": "code",
   "execution_count": null,
   "id": "e4cee97c",
   "metadata": {
    "tags": []
   },
   "outputs": [],
   "source": [
    "found_stars.pprint_all(max_lines=10)"
   ]
  },
  {
   "cell_type": "code",
   "execution_count": null,
   "id": "7c7d793b",
   "metadata": {
    "tags": []
   },
   "outputs": [],
   "source": [
    "# Filter out only stars you want\n",
    "\n",
    "plt.figure(figsize=(12, 8))\n",
    "plt.clf()\n",
    "\n",
    "ax1 = plt.subplot(2, 1, 1)\n",
    "\n",
    "ax1.set_xlabel('mag')\n",
    "ax1.set_ylabel('sharpness')\n",
    "\n",
    "xlim0 = np.min(found_stars['mag']) - 0.25\n",
    "xlim1 = np.max(found_stars['mag']) + 0.25\n",
    "ylim0 = np.min(found_stars['sharpness']) - 0.15\n",
    "ylim1 = np.max(found_stars['sharpness']) + 0.15\n",
    "\n",
    "ax1.set_xlim(xlim0, xlim1)\n",
    "ax1.set_ylim(ylim0, ylim1)\n",
    "\n",
    "#ax1.xaxis.set_major_locator(ticker.AutoLocator())\n",
    "#ax1.xaxis.set_minor_locator(ticker.AutoMinorLocator())\n",
    "#ax1.yaxis.set_major_locator(ticker.AutoLocator())\n",
    "#ax1.yaxis.set_minor_locator(ticker.AutoMinorLocator())\n",
    "\n",
    "ax1.scatter(found_stars['mag'], found_stars['sharpness'], s=10, color='k')\n",
    "\n",
    "sh_inf = 0.40\n",
    "sh_sup = 0.82\n",
    "#mag_lim = -5.0\n",
    "lmag_lim = -3.0\n",
    "umag_lim = -5.0\n",
    "\n",
    "ax1.plot([xlim0, xlim1], [sh_sup, sh_sup], color='r', lw=3, ls='--')\n",
    "ax1.plot([xlim0, xlim1], [sh_inf, sh_inf], color='r', lw=3, ls='--')\n",
    "ax1.plot([lmag_lim, lmag_lim], [ylim0, ylim1], color='r', lw=3, ls='--')\n",
    "ax1.plot([umag_lim, umag_lim], [ylim0, ylim1], color='r', lw=3, ls='--')\n",
    "\n",
    "ax2 = plt.subplot(2, 1, 2)\n",
    "\n",
    "ax2.set_xlabel('mag')\n",
    "ax2.set_ylabel('roundness')\n",
    "\n",
    "ylim0 = np.min(found_stars['roundness2']) - 0.25\n",
    "ylim1 = np.max(found_stars['roundness2']) - 0.25\n",
    "\n",
    "ax2.set_xlim(xlim0, xlim1)\n",
    "ax2.set_ylim(ylim0, ylim1)\n",
    "\n",
    "#ax2.xaxis.set_major_locator(ticker.AutoLocator())\n",
    "#ax2.xaxis.set_minor_locator(ticker.AutoMinorLocator())\n",
    "#ax2.yaxis.set_major_locator(ticker.AutoLocator())\n",
    "#ax2.yaxis.set_minor_locator(ticker.AutoMinorLocator())\n",
    "\n",
    "round_inf = -0.40\n",
    "round_sup = 0.40\n",
    "\n",
    "ax2.scatter(found_stars['mag'], found_stars['roundness2'], s=10, color='k')\n",
    "\n",
    "ax2.plot([xlim0, xlim1], [round_sup, round_sup], color='r', lw=3, ls='--')\n",
    "ax2.plot([xlim0, xlim1], [round_inf, round_inf], color='r', lw=3, ls='--')\n",
    "ax2.plot([lmag_lim, lmag_lim], [ylim0, ylim1], color='r', lw=3, ls='--')\n",
    "ax2.plot([umag_lim, umag_lim], [ylim0, ylim1], color='r', lw=3, ls='--')\n",
    "\n",
    "plt.tight_layout()"
   ]
  },
  {
   "cell_type": "code",
   "execution_count": null,
   "id": "6ac852af",
   "metadata": {
    "tags": []
   },
   "outputs": [],
   "source": [
    "mask = ((found_stars['mag'] < lmag_lim) & (found_stars['mag'] > umag_lim) & (found_stars['roundness2'] > round_inf)\n",
    "        & (found_stars['roundness2'] < round_sup) & (found_stars['sharpness'] > sh_inf) \n",
    "        & (found_stars['sharpness'] < sh_sup) & (found_stars['xcentroid'] > 100) & (found_stars['xcentroid'] < 950)\n",
    "        & (found_stars['ycentroid'] > 100) & (found_stars['ycentroid'] < 950))\n",
    "\n",
    "found_stars_sel = found_stars[mask]\n",
    "\n",
    "print('Number of stars found originally:', len(found_stars))\n",
    "print('Number of stars in final selection:', len(found_stars_sel))\n"
   ]
  },
  {
   "cell_type": "code",
   "execution_count": null,
   "id": "567f81f5",
   "metadata": {
    "tags": []
   },
   "outputs": [],
   "source": [
    "found_stars_sel"
   ]
  },
  {
   "cell_type": "code",
   "execution_count": null,
   "id": "3a62c53a",
   "metadata": {
    "tags": []
   },
   "outputs": [],
   "source": [
    "# Convert pixel to wcs coords\n",
    "from astropy.wcs.utils import skycoord_to_pixel\n",
    "skycoords = w.pixel_to_world(found_stars_sel['xcentroid'], found_stars_sel['ycentroid'])\n",
    "skycoords = skycoords[22:]\n",
    "len(skycoords)"
   ]
  },
  {
   "cell_type": "code",
   "execution_count": null,
   "id": "7fb162ee",
   "metadata": {
    "tags": []
   },
   "outputs": [],
   "source": [
    "lvl3"
   ]
  },
  {
   "cell_type": "code",
   "execution_count": null,
   "id": "03b8ff39",
   "metadata": {
    "tags": []
   },
   "outputs": [],
   "source": [
    "lvl2"
   ]
  },
  {
   "cell_type": "code",
   "execution_count": null,
   "id": "c2003744-f2e8-4fe1-874d-d4f87186f60c",
   "metadata": {
    "tags": []
   },
   "outputs": [],
   "source": [
    "file = lvl2[0]\n",
    "dq = fits.open(file)['DQ',1].data\n",
    "dq[233, 340]"
   ]
  },
  {
   "cell_type": "raw",
   "id": "cdc78e5b-af60-4fcd-bf93-a3b17e4b201f",
   "metadata": {
    "tags": []
   },
   "source": [
    "# Change all DQ flagged pixels to NANs\n",
    "for file in lvl2:\n",
    "    hdul = fits.open(file, mode='update')\n",
    "    data = fits.open(file)['SCI',1].data\n",
    "    dq = fits.open(file)['DQ',1].data\n",
    "    data[dq == 262657]=np.nan\n",
    "    data[dq == 262661]=np.nan\n",
    "    hdul['SCI',1].data=data\n",
    "    hdul.flush()"
   ]
  },
  {
   "cell_type": "code",
   "execution_count": null,
   "id": "caa0c7eb-b49f-4000-8203-2d45d7787c8d",
   "metadata": {
    "tags": []
   },
   "outputs": [],
   "source": [
    "# Developer note. Would be great to have a fast/approximate look up table.\n",
    "jwst_obs = st_phot.observation2(lvl2)\n",
    "grid = st_phot.util.get_jwst_psf_grid(jwst_obs,num_psfs=4)"
   ]
  },
  {
   "cell_type": "code",
   "execution_count": null,
   "id": "b85e222f",
   "metadata": {
    "tags": []
   },
   "outputs": [],
   "source": [
    "# Now Loop Through All Stars and Build Photometry Table\n",
    "import pandas as pd\n",
    "counter = 0.\n",
    "badindex = []\n",
    "\n",
    "for source_location in skycoords:\n",
    "    #print(source_location)\n",
    "    tic = time.perf_counter()\n",
    "    print('Starting',counter+1., ' of', len(skycoords), ':',  source_location)\n",
    "    #psfs = st_phot.get_jwst_psf(jwst_obs,source_location,num_psfs=4)\n",
    "    psfs = st_phot.util.get_jwst_psf_from_grid(jwst_obs,source_location,grid)\n",
    "    jwst_obs.psf_photometry(psfs,source_location,bounds={'flux':[-1000,100000],\n",
    "                        'centroid':[-2.,2.],\n",
    "                        'bkg':[0,50]},\n",
    "                        fit_width=5,\n",
    "                        fit_bkg=True,\n",
    "                        fit_flux='single',\n",
    "                        maxiter=5000)\n",
    "    \n",
    "    jwst_obs.plot_psf_fit()\n",
    "    plt.show()\n",
    "#\n",
    "#    jwst_obs.plot_psf_posterior(minweight=.0005)\n",
    "#    plt.show()\n",
    "    \n",
    "    ra = jwst_obs.psf_result.phot_cal_table['ra'][0]\n",
    "    dec = jwst_obs.psf_result.phot_cal_table['dec'][0]\n",
    "    mag_arr = jwst_obs.psf_result.phot_cal_table['mag']\n",
    "    magerr_arr = jwst_obs.psf_result.phot_cal_table['magerr']\n",
    "    mag_lvl2psf = np.mean(mag_arr)\n",
    "    magerr_lvl2psf = math.sqrt(sum(p**2 for p in magerr_arr))\n",
    "\n",
    "    #print('Finished',counter, ' of', len(skycoords), ':',  source_location)\n",
    "    if counter == 0:\n",
    "        df = pd.DataFrame(np.array([[ra, dec, mag_lvl2psf, magerr_lvl2psf]]), columns=['ra','dec','mag','magerr'])\n",
    "    else:\n",
    "        df = pd.concat([df, pd.DataFrame(np.array([[ra, dec, mag_lvl2psf, magerr_lvl2psf]]))], ignore_index=True)\n",
    "    counter = counter + 1.\n",
    "    toc = time.perf_counter()\n",
    "    print(\"Elapsed Time for Photometry:\", toc - tic)"
   ]
  },
  {
   "cell_type": "markdown",
   "id": "3604e260-2da4-4f43-b306-fb7cd65e738b",
   "metadata": {},
   "source": [
    "### 5.2<font color='white'>-</font>Single, Level3 Mosaicked File<a class=\"anchor\" id=\"lmc3\"></a> ###"
   ]
  },
  {
   "cell_type": "code",
   "execution_count": null,
   "id": "a57e893d-92cb-4de6-8c64-69911b691246",
   "metadata": {
    "tags": []
   },
   "outputs": [],
   "source": [
    "lvl3"
   ]
  },
  {
   "cell_type": "code",
   "execution_count": null,
   "id": "24dbbba6-6d1a-40b2-9028-de916cdc76e4",
   "metadata": {
    "tags": []
   },
   "outputs": [],
   "source": [
    "# Now do the same photometry on the Level 3 Data\n",
    "ref_image = lvl3[0]\n",
    "ref_fits = fits.open(ref_image)\n",
    "ref_data = fits.open(ref_image)['SCI',1].data\n",
    "norm1 = simple_norm(ref_data,stretch='linear',min_cut=-1,max_cut=10)\n",
    "\n",
    "plt.imshow(ref_data, origin='lower',\n",
    "                      norm=norm1,cmap='gray')\n",
    "plt.gca().tick_params(labelcolor='none',axis='both',color='none')\n",
    "plt.show()"
   ]
  },
  {
   "cell_type": "code",
   "execution_count": null,
   "id": "5be212d8-c43a-478e-98ed-b1877e44a347",
   "metadata": {
    "tags": []
   },
   "outputs": [],
   "source": [
    "# Get PSF from WebbPSF and drizzle it to the source location\n",
    "# Develop Note: Need Grid Capability for Level3 Data\n",
    "jwst3_obs = st_phot.observation3(lvl3[0])\n",
    "#psf3 = st_phot.get_jwst3_psf(jwst_obs,source_location,num_psfs=4)\n",
    "#grid = st_phot.util.get_jwst_psf_grid(jwst_obs,num_psfs=4)"
   ]
  },
  {
   "cell_type": "code",
   "execution_count": null,
   "id": "922accc4-2179-4e03-ad60-2beeb594faea",
   "metadata": {
    "tags": []
   },
   "outputs": [],
   "source": [
    "# Now Loop Through All Stars and Build Photometry Table\n",
    "import pandas as pd\n",
    "counter = 0.\n",
    "badindex = []\n",
    "\n",
    "for source_location in skycoords:\n",
    "    #print(source_location)\n",
    "    tic = time.perf_counter()\n",
    "    print('Starting',counter+1., ' of', len(skycoords), ':',  source_location)\n",
    "    #psf3 = st_phot.util.get_jwst_psf_from_grid(jwst3_obs,source_location,grid)\n",
    "    psf3 = st_phot.get_jwst3_psf(jwst_obs,source_location,num_psfs=4)\n",
    "    jwst3_obs.psf_photometry(psf3,source_location,bounds={'flux':[-1000,10000],\n",
    "                        'centroid':[-2,2],\n",
    "                        'bkg':[0,50]},\n",
    "                        fit_width=5,\n",
    "                        fit_bkg=True,\n",
    "                        fit_flux=True)\n",
    "\n",
    "    jwst3_obs.plot_psf_fit()\n",
    "    plt.show()\n",
    "\n",
    "    ra = jwst3_obs.psf_result.phot_cal_table['ra'][0]\n",
    "    dec = jwst3_obs.psf_result.phot_cal_table['dec'][0]\n",
    "    mag_lvl3psf = jwst3_obs.psf_result.phot_cal_table['mag'][0]\n",
    "    magerr_lvl3psf = jwst3_obs.psf_result.phot_cal_table['magerr'][0]\n",
    "\n",
    "    #print('Finished',counter, ' of', len(skycoords), ':',  source_location)\n",
    "    if counter == 0:\n",
    "        df = pd.DataFrame(np.array([[ra, dec, mag_lvl3psf, magerr_lvl3psf]]), columns=['ra','dec','mag','magerr'])\n",
    "    else:\n",
    "        df = pd.concat([df, pd.DataFrame(np.array([[ra, dec, mag_lvl3psf, magerr_lvl3psf]]))], ignore_index=True)\n",
    "    counter = counter + 1.\n",
    "    toc = time.perf_counter()\n",
    "    print(\"Elapsed Time for Photometry:\", toc - tic)"
   ]
  },
  {
   "cell_type": "markdown",
   "id": "5630029f-31d1-42cd-8454-225e86cabc48",
   "metadata": {},
   "source": [
    "<hr style=\"border:1px solid gray\"> </hr>"
   ]
  },
  {
   "cell_type": "markdown",
   "id": "843b5201-6f57-46f0-9da0-b738714178d3",
   "metadata": {},
   "source": [
    "<img style=\"float: center;\" src=\"https://raw.githubusercontent.com/spacetelescope/notebooks/master/assets/stsci_pri_combo_mark_horizonal_white_bkgd.png\" alt=\"Space Telescope Logo\" width=\"200px\"/>"
   ]
  }
 ],
 "metadata": {
  "kernelspec": {
   "display_name": "stphot",
   "language": "python",
   "name": "stphot"
  },
  "language_info": {
   "codemirror_mode": {
    "name": "ipython",
    "version": 3
   },
   "file_extension": ".py",
   "mimetype": "text/x-python",
   "name": "python",
   "nbconvert_exporter": "python",
   "pygments_lexer": "ipython3",
   "version": "3.11.4"
  },
  "toc-showcode": false
 },
 "nbformat": 4,
 "nbformat_minor": 5
}
